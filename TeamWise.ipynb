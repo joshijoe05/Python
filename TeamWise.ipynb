{
 "cells": [
  {
   "cell_type": "code",
   "execution_count": 30,
   "id": "e73c45dd",
   "metadata": {},
   "outputs": [],
   "source": [
    "import numpy as np\n",
    "import pandas as pd\n",
    "import openpyxl"
   ]
  },
  {
   "cell_type": "code",
   "execution_count": 31,
   "id": "01b6d9e8",
   "metadata": {},
   "outputs": [],
   "source": [
    "df1 =pd.read_csv('Python Assignment - (Input) User IDs.csv')\n",
    "df2 = pd.read_csv('Python Assignment - (Input) Rigorbuilder RAW.csv')\n",
    "df2 = df2.iloc[:,[1,2,3,4]]\n",
    "merge_df = pd.merge(df1,df2,on='name')\n",
    "df = merge_df.groupby('Team Name').agg({\"total_statements\":\"mean\",\"total_reasons\":\"mean\"}).reset_index()\n",
    "df['result'] = df['total_statements'] + df['total_reasons']\n",
    "df = df.sort_values(by=['result'],ascending=False)"
   ]
  },
  {
   "cell_type": "code",
   "execution_count": 32,
   "id": "817b8f14",
   "metadata": {},
   "outputs": [
    {
     "data": {
      "text/html": [
       "<div>\n",
       "<style scoped>\n",
       "    .dataframe tbody tr th:only-of-type {\n",
       "        vertical-align: middle;\n",
       "    }\n",
       "\n",
       "    .dataframe tbody tr th {\n",
       "        vertical-align: top;\n",
       "    }\n",
       "\n",
       "    .dataframe thead th {\n",
       "        text-align: right;\n",
       "    }\n",
       "</style>\n",
       "<table border=\"1\" class=\"dataframe\">\n",
       "  <thead>\n",
       "    <tr style=\"text-align: right;\">\n",
       "      <th></th>\n",
       "      <th>Thinking Teams Leaderboard</th>\n",
       "      <th>Average Statements</th>\n",
       "      <th>Average Reasons</th>\n",
       "    </tr>\n",
       "    <tr>\n",
       "      <th>Team Rank</th>\n",
       "      <th></th>\n",
       "      <th></th>\n",
       "      <th></th>\n",
       "    </tr>\n",
       "  </thead>\n",
       "  <tbody>\n",
       "    <tr>\n",
       "      <th>1</th>\n",
       "      <td>Winning Culture Lab</td>\n",
       "      <td>12.66</td>\n",
       "      <td>16.00</td>\n",
       "    </tr>\n",
       "    <tr>\n",
       "      <th>2</th>\n",
       "      <td>Tech Lab</td>\n",
       "      <td>9.00</td>\n",
       "      <td>10.00</td>\n",
       "    </tr>\n",
       "    <tr>\n",
       "      <th>3</th>\n",
       "      <td>Mentor</td>\n",
       "      <td>7.33</td>\n",
       "      <td>7.66</td>\n",
       "    </tr>\n",
       "    <tr>\n",
       "      <th>4</th>\n",
       "      <td>Student Unicorn Lab</td>\n",
       "      <td>7.33</td>\n",
       "      <td>6.33</td>\n",
       "    </tr>\n",
       "    <tr>\n",
       "      <th>5</th>\n",
       "      <td>Growpital</td>\n",
       "      <td>5.00</td>\n",
       "      <td>5.66</td>\n",
       "    </tr>\n",
       "    <tr>\n",
       "      <th>6</th>\n",
       "      <td>BrandTech Lab</td>\n",
       "      <td>4.50</td>\n",
       "      <td>5.50</td>\n",
       "    </tr>\n",
       "    <tr>\n",
       "      <th>7</th>\n",
       "      <td>Kringle</td>\n",
       "      <td>4.50</td>\n",
       "      <td>4.50</td>\n",
       "    </tr>\n",
       "    <tr>\n",
       "      <th>8</th>\n",
       "      <td>Human Capital Lab</td>\n",
       "      <td>2.00</td>\n",
       "      <td>4.50</td>\n",
       "    </tr>\n",
       "  </tbody>\n",
       "</table>\n",
       "</div>"
      ],
      "text/plain": [
       "          Thinking Teams Leaderboard  Average Statements  Average Reasons\n",
       "Team Rank                                                                \n",
       "1                Winning Culture Lab               12.66            16.00\n",
       "2                           Tech Lab                9.00            10.00\n",
       "3                             Mentor                7.33             7.66\n",
       "4                Student Unicorn Lab                7.33             6.33\n",
       "5                          Growpital                5.00             5.66\n",
       "6                      BrandTech Lab                4.50             5.50\n",
       "7                            Kringle                4.50             4.50\n",
       "8                  Human Capital Lab                2.00             4.50"
      ]
     },
     "execution_count": 32,
     "metadata": {},
     "output_type": "execute_result"
    }
   ],
   "source": [
    "del df['result']\n",
    "Rank = np.arange(1,len(df)+1)\n",
    "df.insert(loc=0,column='Team Rank',value = Rank)\n",
    "mapping = {df.columns[1]:'Thinking Teams Leaderboard',df.columns[2]:'Average Statements',df.columns[3]:'Average Reasons'}\n",
    "df= df.rename(columns=mapping)\n",
    "df.index = np.arange(1,len(df)+1)\n",
    "df['Average Statements'] = np.floor(df['Average Statements'] * 100)/100\n",
    "df['Average Reasons'] = np.floor(df['Average Reasons'] * 100)/100\n",
    "df.set_index('Team Rank',inplace=True)\n",
    "df"
   ]
  },
  {
   "cell_type": "code",
   "execution_count": 33,
   "id": "834b463f",
   "metadata": {},
   "outputs": [],
   "source": [
    "df.to_excel('Team Wise Leaderboard.xlsx')"
   ]
  },
  {
   "cell_type": "code",
   "execution_count": null,
   "id": "a1546f05",
   "metadata": {},
   "outputs": [],
   "source": []
  }
 ],
 "metadata": {
  "kernelspec": {
   "display_name": "Python 3 (ipykernel)",
   "language": "python",
   "name": "python3"
  },
  "language_info": {
   "codemirror_mode": {
    "name": "ipython",
    "version": 3
   },
   "file_extension": ".py",
   "mimetype": "text/x-python",
   "name": "python",
   "nbconvert_exporter": "python",
   "pygments_lexer": "ipython3",
   "version": "3.10.5"
  }
 },
 "nbformat": 4,
 "nbformat_minor": 5
}
